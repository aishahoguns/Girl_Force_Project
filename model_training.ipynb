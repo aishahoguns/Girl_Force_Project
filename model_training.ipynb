{
 "cells": [
  {
   "cell_type": "code",
   "execution_count": 3,
   "metadata": {},
   "outputs": [],
   "source": [
    "### Model Building with Pipelines\n",
    "import pandas as pd\n",
    "import numpy as np\n",
    "from sklearn.ensemble import RandomForestRegressor\n",
    "from sklearn.model_selection import RandomizedSearchCV, GridSearchCV\n",
    "from sklearn.pipeline import Pipeline\n",
    "from sklearn.compose import ColumnTransformer\n",
    "from sklearn.preprocessing import OneHotEncoder, StandardScaler, LabelEncoder\n",
    "from sklearn.model_selection import train_test_split\n",
    "from sklearn.metrics import mean_squared_error , mean_absolute_error\n",
    "class PredictPipeline:\n",
    "    def __init__(self):\n",
    "        self.pipeline = None\n",
    "        self.model = RandomForestRegressor()\n",
    "\n",
    "    def preprocess(self, data):\n",
    "        num_cols = data.select_dtypes(['float64', 'int64']).columns\n",
    "        cat_cols = data.columns.difference(num_cols)\n",
    "        self.pipeline = Pipeline([('preprocessor', ColumnTransformer(\n",
    "            transformers=[('num', StandardScaler(), num_cols),\n",
    "                          ('cat', OneHotEncoder(), cat_cols)],\n",
    "            remainder= 'passthrough'\n",
    "           )\n",
    "        )])\n",
    "        \n",
    "        return self.pipeline.fit_transform(data)\n",
    "\n",
    "    def Train_Model(self, X, y):\n",
    "        preprocessed_X = self.preprocess(X)\n",
    "        X_train, X_test, y_train, y_test = train_test_split(preprocessed_X, y, test_size=0.25, random_state=89)\n",
    "        self.model.fit(X_train, y_train)\n",
    "        y_pred = self.model.predict(X_test)\n",
    "        mse = mean_squared_error(y_test, y_pred)\n",
    "        mae = mean_absolute_error(y_test, y_pred)\n",
    "\n",
    "        return mse, mae\n",
    "\n",
    "    def predict(self, instance):\n",
    "        instance_df = pd.DataFrame(instance).T\n",
    "        instance_transformed = self.pipeline.transform(instance_df)\n",
    "        return self.model.predict(instance_transformed)\n",
    "        \n",
    "exercise_data = pd.read_csv('Untitled Folder\\exercise.csv')\n",
    "calories_data = pd.read_csv('Untitled Folder\\calories.csv')\n",
    "\n",
    "X = exercise_data.drop('User_ID', axis=1)\n",
    "y = calories_data['Calories']\n",
    "\n",
    "\n",
    "pipeline = PredictPipeline()\n",
    "preprocesed_X = pipeline.preprocess(X)\n",
    "pipeline.Train_Model(X,y)\n",
    "pipeline.predict(instance = X.iloc[67,:])\n",
    "import pickle as pkl\n",
    "with open('model.pkl','wb') as file:\n",
    "    pkl.dump(pipeline.model, file) \n"
   ]
  }
 ],
 "metadata": {
  "kernelspec": {
   "display_name": "Python 3 (ipykernel)",
   "language": "python",
   "name": "python3"
  },
  "language_info": {
   "codemirror_mode": {
    "name": "ipython",
    "version": 3
   },
   "file_extension": ".py",
   "mimetype": "text/x-python",
   "name": "python",
   "nbconvert_exporter": "python",
   "pygments_lexer": "ipython3",
   "version": "3.10.13"
  }
 },
 "nbformat": 4,
 "nbformat_minor": 2
}
